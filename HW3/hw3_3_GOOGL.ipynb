{
 "cells": [
  {
   "cell_type": "code",
   "execution_count": 1,
   "metadata": {},
   "outputs": [
    {
     "data": {
      "text/html": [
       "<style>.container { width:100% !important; }</style>"
      ],
      "text/plain": [
       "<IPython.core.display.HTML object>"
      ]
     },
     "metadata": {},
     "output_type": "display_data"
    }
   ],
   "source": [
    "from IPython.core.display import display, HTML\n",
    "display(HTML(\"<style>.container { width:100% !important; }</style>\"))"
   ]
  },
  {
   "cell_type": "code",
   "execution_count": 2,
   "metadata": {},
   "outputs": [],
   "source": [
    "import numpy as np\n",
    "import matplotlib.pyplot as plt\n",
    "import pandas as pd\n",
    "import datetime\n",
    "from sklearn.preprocessing import MinMaxScaler\n",
    "import tensorflow as tf"
   ]
  },
  {
   "cell_type": "code",
   "execution_count": 3,
   "metadata": {},
   "outputs": [],
   "source": [
    "file_name = \"GOOGL.csv\"\n",
    "dataset = pd.read_csv(file_name)\n",
    "# dataset.head()\n",
    "Open_price = dataset['Open']"
   ]
  },
  {
   "cell_type": "code",
   "execution_count": 4,
   "metadata": {},
   "outputs": [],
   "source": [
    "Open_price_norm = MinMaxScaler().fit_transform(Open_price.values.reshape(-1, 1))"
   ]
  },
  {
   "cell_type": "code",
   "execution_count": 5,
   "metadata": {},
   "outputs": [],
   "source": [
    "# dataset needs to be restore according to the days for prediction\n",
    "input_data = []\n",
    "input_label = []\n",
    "\n",
    "# choose 10 days stock price for prediction\n",
    "days = 10\n",
    "\n",
    "index = 0\n",
    "while (index + days) < len(Open_price_norm):\n",
    "        input_data.append(Open_price_norm[index: (index + days)])\n",
    "        input_label.append(Open_price_norm[index + days])\n",
    "        index = index + 1\n",
    "        \n",
    "# split training, validation and testing data\n",
    "split_train_index = int(np.ceil(len(input_label) * 0.9))\n",
    "split_validation_index = int(np.ceil(len(input_label) * 0.95))\n",
    "\n",
    "x_train = np.array(input_data[:split_train_index])\n",
    "y_train = np.array(input_label[:split_train_index])\n",
    "\n",
    "x_validation = np.array(input_data[split_train_index: split_validation_index])\n",
    "y_validation = np.array(input_label[split_train_index: split_validation_index])\n",
    "\n",
    "x_test = np.array(input_data[split_validation_index:])\n",
    "y_test = np.array(input_label[split_validation_index:])"
   ]
  },
  {
   "cell_type": "code",
   "execution_count": 6,
   "metadata": {},
   "outputs": [],
   "source": [
    "lr = 0.001\n",
    "batch_size = 64\n",
    "num_seq = 10\n",
    "input_size = 1\n",
    "hidden_layer = 128\n",
    "epoch = 50"
   ]
  },
  {
   "cell_type": "code",
   "execution_count": 7,
   "metadata": {},
   "outputs": [],
   "source": [
    "X = tf.placeholder(tf.float32, [None, num_seq, input_size])\n",
    "Y = tf.placeholder(tf.float32, [None, input_size]) "
   ]
  },
  {
   "cell_type": "code",
   "execution_count": 8,
   "metadata": {},
   "outputs": [
    {
     "name": "stdout",
     "output_type": "stream",
     "text": [
      "WARNING:tensorflow:From d:\\anaconda3\\envs\\envname\\lib\\site-packages\\tensorflow\\python\\framework\\op_def_library.py:263: colocate_with (from tensorflow.python.framework.ops) is deprecated and will be removed in a future version.\n",
      "Instructions for updating:\n",
      "Colocations handled automatically by placer.\n"
     ]
    }
   ],
   "source": [
    "weights_input_gate = tf.Variable(tf.truncated_normal([1, hidden_layer], stddev=0.05))\n",
    "weights_input_hidden = tf.Variable(tf.truncated_normal([hidden_layer, hidden_layer], stddev=0.05))\n",
    "bias_input = tf.Variable(tf.zeros([hidden_layer]))\n",
    "\n",
    "weights_forget_gate = tf.Variable(tf.truncated_normal([1, hidden_layer], stddev=0.05))\n",
    "weights_forget_hidden = tf.Variable(tf.truncated_normal([hidden_layer, hidden_layer], stddev=0.05))\n",
    "bias_forget = tf.Variable(tf.zeros([hidden_layer]))\n",
    "\n",
    "weights_output_gate = tf.Variable(tf.truncated_normal([1, hidden_layer], stddev=0.05))\n",
    "weights_output_hidden = tf.Variable(tf.truncated_normal([hidden_layer, hidden_layer], stddev=0.05))\n",
    "bias_output = tf.Variable(tf.zeros([hidden_layer]))\n",
    "\n",
    "weights_memory_cell = tf.Variable(tf.truncated_normal([1, hidden_layer], stddev=0.05))\n",
    "weights_memory_cell_hidden = tf.Variable(tf.truncated_normal([hidden_layer, hidden_layer], stddev=0.05))\n",
    "bias_memory_cell = tf.Variable(tf.zeros([hidden_layer]))\n",
    "\n",
    "weights_output = tf.Variable(tf.truncated_normal([hidden_layer, 1], stddev=0.05))\n",
    "bias_output_layer = tf.Variable(tf.zeros([1]))"
   ]
  },
  {
   "cell_type": "code",
   "execution_count": 9,
   "metadata": {},
   "outputs": [],
   "source": [
    "def LSTM(input, output, state):\n",
    "    input_gate = tf.sigmoid(tf.matmul(input, weights_input_gate) + tf.matmul(output, weights_input_hidden) + bias_input)\n",
    "    forget_gate = tf.sigmoid(tf.matmul(input, weights_forget_gate) + tf.matmul(output, weights_forget_hidden) + bias_forget)\n",
    "    output_gate = tf.sigmoid(tf.matmul(input, weights_output_gate) + tf.matmul(output, weights_output_hidden) + bias_output)\n",
    "    memory_cell = tf.tanh(tf.matmul(input, weights_memory_cell) + tf.matmul(output, weights_memory_cell_hidden) + bias_memory_cell)\n",
    "    state = state * forget_gate + input_gate * memory_cell\n",
    "    output = output_gate * tf.tanh(state)\n",
    "    return state, output"
   ]
  },
  {
   "cell_type": "code",
   "execution_count": 10,
   "metadata": {},
   "outputs": [],
   "source": [
    "results = []\n",
    "for i in range(batch_size):\n",
    "    batch_state = np.zeros([1, hidden_layer], dtype=np.float32) \n",
    "    batch_output = np.zeros([1, hidden_layer], dtype=np.float32)\n",
    "    for j in range(num_seq):\n",
    "        batch_state, batch_output = LSTM(tf.reshape(X[i][j], (-1, 1)), batch_output, batch_state)\n",
    "    results.append(tf.matmul(batch_output, weights_output) + bias_output_layer)"
   ]
  },
  {
   "cell_type": "code",
   "execution_count": 11,
   "metadata": {},
   "outputs": [
    {
     "name": "stdout",
     "output_type": "stream",
     "text": [
      "WARNING:tensorflow:From d:\\anaconda3\\envs\\envname\\lib\\site-packages\\tensorflow\\python\\ops\\losses\\losses_impl.py:667: to_float (from tensorflow.python.ops.math_ops) is deprecated and will be removed in a future version.\n",
      "Instructions for updating:\n",
      "Use tf.cast instead.\n"
     ]
    }
   ],
   "source": [
    "loss = []\n",
    "for i in range(len(results)):\n",
    "    loss.append(tf.losses.mean_squared_error(tf.reshape(Y[i], (-1, 1)), results[i]))      \n",
    "loss = tf.reduce_mean(loss)\n",
    "optimizer = tf.train.AdamOptimizer(learning_rate=lr)\n",
    "train_op = optimizer.minimize(loss)"
   ]
  },
  {
   "cell_type": "code",
   "execution_count": 12,
   "metadata": {},
   "outputs": [
    {
     "name": "stdout",
     "output_type": "stream",
     "text": [
      "Epoch 1/50  Val_loss: 0.012787425890564919\n",
      "Epoch 6/50  Val_loss: 0.007631921675056219\n",
      "Epoch 11/50  Val_loss: 0.0005824877880513668\n",
      "Epoch 16/50  Val_loss: 0.0004965348052792251\n",
      "Epoch 21/50  Val_loss: 0.0004888133844360709\n",
      "Epoch 26/50  Val_loss: 0.0004878391046077013\n",
      "Epoch 31/50  Val_loss: 0.0004939990467391908\n",
      "Epoch 36/50  Val_loss: 0.0004945404944010079\n",
      "Epoch 41/50  Val_loss: 0.00047235714737325907\n",
      "Epoch 46/50  Val_loss: 0.00045170291559770703\n"
     ]
    }
   ],
   "source": [
    "init = tf.global_variables_initializer()\n",
    "saver = tf.train.Saver()\n",
    "with tf.Session() as sess:\n",
    "    sess.run(init) \n",
    "    for i in range(epoch):\n",
    "        # fetch batch\n",
    "        index = 0\n",
    "        while (index + batch_size) < len(x_train):\n",
    "            x_batch = x_train[index: (index + batch_size)]\n",
    "            y_batch = y_train[index: (index + batch_size)]\n",
    "            # run optimization\n",
    "            sess.run(train_op, feed_dict={X:x_batch, Y:y_batch})\n",
    "            index = index + batch_size\n",
    "        # validation\n",
    "        if i % 5 == 0:\n",
    "            print('Epoch {}/{}'.format((i + 1), epoch), ' Val_loss: {}'.format(sess.run(loss, feed_dict={X:x_validation, Y:y_validation})))\n",
    "    save_path = saver.save(sess, 'model.ckpt') "
   ]
  },
  {
   "cell_type": "code",
   "execution_count": 13,
   "metadata": {},
   "outputs": [
    {
     "name": "stdout",
     "output_type": "stream",
     "text": [
      "WARNING:tensorflow:From d:\\anaconda3\\envs\\envname\\lib\\site-packages\\tensorflow\\python\\training\\saver.py:1266: checkpoint_exists (from tensorflow.python.training.checkpoint_management) is deprecated and will be removed in a future version.\n",
      "Instructions for updating:\n",
      "Use standard file APIs to check for files with this prefix.\n",
      "INFO:tensorflow:Restoring parameters from model.ckpt\n"
     ]
    },
    {
     "data": {
      "image/png": "[encoded data removed]",
      "text/plain": [
       "<Figure size 864x432 with 1 Axes>"
      ]
     },
     "metadata": {
      "needs_background": "light"
     },
     "output_type": "display_data"
    }
   ],
   "source": [
    "prices = []\n",
    "index = 0\n",
    "with tf.Session() as sess:\n",
    "    saver.restore(sess, \"model.ckpt\")\n",
    "    while (index + batch_size) < len(x_test):\n",
    "        temp = sess.run(results, feed_dict={X:x_test[index: (index + batch_size)]})\n",
    "        index = index + batch_size\n",
    "        prices.append(temp)\n",
    "    prices = np.squeeze(np.asarray(prices)).flatten()\n",
    "\n",
    "    plt.figure(figsize=(12,6))\n",
    "    plt.plot(range(100),y_test[0:100],color='green')\n",
    "    plt.plot(range(100),prices[0:100],color='red')\n",
    "    plt.legend(['Ground Truth','Predicted Value'])\n",
    "    plt.xlabel('day')\n",
    "    plt.ylabel('price')\n",
    "    plt.show()"
   ]
  },
  {
   "cell_type": "code",
   "execution_count": null,
   "metadata": {},
   "outputs": [],
   "source": []
  }
 ],
 "metadata": {
  "kernelspec": {
   "display_name": "Python 3",
   "language": "python",
   "name": "python3"
  },
  "language_info": {
   "codemirror_mode": {
    "name": "ipython",
    "version": 3
   },
   "file_extension": ".py",
   "mimetype": "text/x-python",
   "name": "python",
   "nbconvert_exporter": "python",
   "pygments_lexer": "ipython3",
   "version": "3.7.3"
  }
 },
 "nbformat": 4,
 "nbformat_minor": 2
}
