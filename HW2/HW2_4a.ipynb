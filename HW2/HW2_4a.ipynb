{
 "cells": [
  {
   "cell_type": "markdown",
   "metadata": {},
   "source": [
    "<p style=\"font-size:20px\">You may need to install <b>tqdm</b> and <b>cv2</b>. Simply do <b>conda install tqdm</b> and <b>conda install cv2</b> in your virtual environment. You are also free to use other tools to fetch the image files and resize them.</p>"
   ]
  },
  {
   "cell_type": "code",
   "execution_count": 1,
   "metadata": {},
   "outputs": [],
   "source": [
    "import numpy as np\n",
    "import matplotlib.pyplot as plt\n",
    "from random import shuffle\n",
    "from tqdm import tqdm\n",
    "import pickle\n",
    "import os\n",
    "import cv2\n",
    "import timeit"
   ]
  },
  {
   "cell_type": "markdown",
   "metadata": {},
   "source": [
    "<p style=\"font-size:20px\">In Problem 4a, you will preprocess the dogs and cats data and save them into \"Pickle\" files for later use."
   ]
  },
  {
   "cell_type": "code",
   "execution_count": 2,
   "metadata": {},
   "outputs": [],
   "source": [
    "train_dir = 'D:/Homework/ECE596/dogs-vs-cats/train/'\n",
    "test_dir = 'D:/Homework/ECE596/dogs-vs-cats/test1/'"
   ]
  },
  {
   "cell_type": "markdown",
   "metadata": {},
   "source": [
    "<p style=\"font-size:20px\">Step 1: Kaggle does not provide a file that contains the labels. So we need to create labels from the training file."
   ]
  },
  {
   "cell_type": "code",
   "execution_count": 3,
   "metadata": {},
   "outputs": [],
   "source": [
    "def label_img(img):\n",
    "    if 'cat' in img:\n",
    "        return [1,0]\n",
    "    if 'dog' in img:\n",
    "        return [0,1]"
   ]
  },
  {
   "cell_type": "markdown",
   "metadata": {},
   "source": [
    "<p style=\"font-size:20px\">Step 2: define a function to fetch all images from the training directory and return a <b>list</b> that every element contains two <b>Numpy array</b>:image and its label."
   ]
  },
  {
   "cell_type": "code",
   "execution_count": 4,
   "metadata": {},
   "outputs": [],
   "source": [
    "def create_train_data():\n",
    "    ###create a list###\n",
    "    train_data = []\n",
    "    ####for loop to fetch img from directory (hint:use tqdm)###\n",
    "    for img in tqdm(os.listdir(train_dir)):\n",
    "        path = train_dir + img\n",
    "        ###get label of img###\n",
    "        label = label_img(img)\n",
    "        ###use cv2 to read the img and resize the it to (227 x 227)###\n",
    "        image = cv2.resize(cv2.imread(path), (227, 227))\n",
    "        ###append the img and label to the list###\n",
    "        train_data.append((image, label))\n",
    "    ###shuffle training data###\n",
    "    shuffle(train_data)\n",
    "    ###return training data###\n",
    "    return train_data"
   ]
  },
  {
   "cell_type": "markdown",
   "metadata": {},
   "source": [
    "<p style=\"font-size:20px\">Step 3: define a similar function to fetch all test data. You don't need to label them."
   ]
  },
  {
   "cell_type": "code",
   "execution_count": 5,
   "metadata": {},
   "outputs": [],
   "source": [
    "def create_test_data():\n",
    "    test_data = []\n",
    "    for img in tqdm(os.listdir(test_dir)):\n",
    "        path = test_dir + img\n",
    "        image = cv2.resize(cv2.imread(path), (227, 227))\n",
    "        test_data.append(image)\n",
    "    shuffle(test_data)\n",
    "    return test_data"
   ]
  },
  {
   "cell_type": "markdown",
   "metadata": {},
   "source": [
    "<p style=\"font-size:20px\">Step 4: create your train and test data</p>"
   ]
  },
  {
   "cell_type": "code",
   "execution_count": 6,
   "metadata": {},
   "outputs": [
    {
     "name": "stderr",
     "output_type": "stream",
     "text": [
      "100%|███████████████████████████████████████████████████████████████████████████| 25000/25000 [01:13<00:00, 340.55it/s]\n",
      "100%|███████████████████████████████████████████████████████████████████████████| 12500/12500 [00:47<00:00, 264.12it/s]\n"
     ]
    }
   ],
   "source": [
    "train_data = create_train_data()\n",
    "test_data = create_test_data()"
   ]
  },
  {
   "cell_type": "markdown",
   "metadata": {},
   "source": [
    "<p style=\"font-size:20px\"> You can visualize the image using plt.imshow()"
   ]
  },
  {
   "cell_type": "code",
   "execution_count": 7,
   "metadata": {},
   "outputs": [],
   "source": [
    "# img, label = train_data[10]\n",
    "# plt.imshow(img)"
   ]
  },
  {
   "cell_type": "markdown",
   "metadata": {},
   "source": [
    "<p style=\"font-size:20px\">Step 5: Reshape all images to have shape (#, 227, 227, 3). Use 500 training data as your validation set."
   ]
  },
  {
   "cell_type": "code",
   "execution_count": 8,
   "metadata": {},
   "outputs": [],
   "source": [
    "# np.shape(img)"
   ]
  },
  {
   "cell_type": "markdown",
   "metadata": {},
   "source": [
    "<p style=\"font-size:20px\">Step 6: Save training data, validation data and testing data as Pickle object</p>\n",
    "<p style=\"font-size:20px\">Note: You can't save all training data into one file because it has several Gigabytes. Separate your data wisely and save them into different files</p>"
   ]
  },
  {
   "cell_type": "code",
   "execution_count": 10,
   "metadata": {},
   "outputs": [],
   "source": [
    "img, labels = [], []\n",
    "for i in range(len(train_data)):\n",
    "    img.append(train_data[i][0])\n",
    "    labels.append(train_data[i][1])\n",
    "np_img = np.array(img)\n",
    "np_labels = np.array(labels)\n",
    "\n",
    "test_img = []\n",
    "for i in range(len(test_data)):\n",
    "    test_img.append(test_data[i])\n",
    "np_test_img = np.array(test_img)\n",
    "\n",
    "# def save_training_data(train_data):\n",
    "s = 0\n",
    "f = 2450\n",
    "for i in range(10):\n",
    "    file =  open('training_data_' + str(i), 'wb')\n",
    "    dict = {'data': np_img[s:f], 'labels': np_labels[s:f]}\n",
    "    pickle.dump(dict, file)\n",
    "    file.close()\n",
    "    s = s + 2450\n",
    "    f = f + 2450\n",
    "\n",
    "# def save_validation_data(train_data):\n",
    "validation_file =  open('validation_data', 'wb')\n",
    "validation_dict = {'data': np_img[24500:25000], 'labels': np_labels[24500:25000]}\n",
    "pickle.dump(validation_dict, validation_file)\n",
    "validation_file.close()\n",
    "\n",
    "# def save_test_data(test_data):\n",
    "st = 0\n",
    "ft = 2500\n",
    "for i in range(5):\n",
    "    file =  open('test_data_' + str(i), 'wb')\n",
    "    dict = np_test_img[st:ft]\n",
    "    pickle.dump(dict, file)\n",
    "    file.close()\n",
    "    st = st + 2500\n",
    "    ft = ft + 2500\n",
    "        \n"
   ]
  },
  {
   "cell_type": "code",
   "execution_count": null,
   "metadata": {},
   "outputs": [],
   "source": []
  }
 ],
 "metadata": {
  "kernelspec": {
   "display_name": "Python 3",
   "language": "python",
   "name": "python3"
  },
  "language_info": {
   "codemirror_mode": {
    "name": "ipython",
    "version": 3
   },
   "file_extension": ".py",
   "mimetype": "text/x-python",
   "name": "python",
   "nbconvert_exporter": "python",
   "pygments_lexer": "ipython3",
   "version": "3.7.3"
  }
 },
 "nbformat": 4,
 "nbformat_minor": 2
}
