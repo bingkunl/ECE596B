{
 "cells": [
  {
   "cell_type": "code",
   "execution_count": 2,
   "metadata": {},
   "outputs": [],
   "source": [
    "import tensorflow as tf\n",
    "import pickle\n",
    "import numpy as np\n",
    "import timeit\n",
    "from load_cifar import *\n",
    "import time"
   ]
  },
  {
   "cell_type": "code",
   "execution_count": 3,
   "metadata": {},
   "outputs": [],
   "source": [
    "tf.reset_default_graph()\n",
    "validation_data, validation_labels = load_preprocessed_validation_batch()"
   ]
  },
  {
   "cell_type": "markdown",
   "metadata": {},
   "source": [
    "<h1>Hyperparameter</h1>"
   ]
  },
  {
   "cell_type": "code",
   "execution_count": 4,
   "metadata": {},
   "outputs": [],
   "source": [
    "lr = 0.0012\n",
    "batch_size = 64\n",
    "num_epochs = 10\n",
    "num_classes = 10"
   ]
  },
  {
   "cell_type": "markdown",
   "metadata": {},
   "source": [
    "<h1>Placeholder</h1>"
   ]
  },
  {
   "cell_type": "code",
   "execution_count": 5,
   "metadata": {},
   "outputs": [],
   "source": [
    "X = tf.placeholder(tf.float32,[None,32,32,3],name='X')\n",
    "Y = tf.placeholder(tf.int32,[None,num_classes],name='Y')\n",
    "Training = tf.placeholder(tf.bool, None)"
   ]
  },
  {
   "cell_type": "markdown",
   "metadata": {},
   "source": [
    "<h1>LeNet-5</h1>"
   ]
  },
  {
   "cell_type": "code",
   "execution_count": 6,
   "metadata": {},
   "outputs": [
    {
     "name": "stdout",
     "output_type": "stream",
     "text": [
      "WARNING:tensorflow:From d:\\anaconda3\\envs\\envname\\lib\\site-packages\\tensorflow\\python\\framework\\op_def_library.py:263: colocate_with (from tensorflow.python.framework.ops) is deprecated and will be removed in a future version.\n",
      "Instructions for updating:\n",
      "Colocations handled automatically by placer.\n",
      "WARNING:tensorflow:From <ipython-input-6-68458dce2f9d>:2: conv2d (from tensorflow.python.layers.convolutional) is deprecated and will be removed in a future version.\n",
      "Instructions for updating:\n",
      "Use keras.layers.conv2d instead.\n",
      "WARNING:tensorflow:From <ipython-input-6-68458dce2f9d>:4: max_pooling2d (from tensorflow.python.layers.pooling) is deprecated and will be removed in a future version.\n",
      "Instructions for updating:\n",
      "Use keras.layers.max_pooling2d instead.\n",
      "WARNING:tensorflow:From <ipython-input-6-68458dce2f9d>:6: batch_normalization (from tensorflow.python.layers.normalization) is deprecated and will be removed in a future version.\n",
      "Instructions for updating:\n",
      "Use keras.layers.batch_normalization instead.\n",
      "WARNING:tensorflow:From <ipython-input-6-68458dce2f9d>:11: average_pooling2d (from tensorflow.python.layers.pooling) is deprecated and will be removed in a future version.\n",
      "Instructions for updating:\n",
      "Use keras.layers.average_pooling2d instead.\n",
      "WARNING:tensorflow:From <ipython-input-6-68458dce2f9d>:16: flatten (from tensorflow.python.layers.core) is deprecated and will be removed in a future version.\n",
      "Instructions for updating:\n",
      "Use keras.layers.flatten instead.\n",
      "WARNING:tensorflow:From <ipython-input-6-68458dce2f9d>:16: dense (from tensorflow.python.layers.core) is deprecated and will be removed in a future version.\n",
      "Instructions for updating:\n",
      "Use keras.layers.dense instead.\n",
      "WARNING:tensorflow:From <ipython-input-6-68458dce2f9d>:18: dropout (from tensorflow.python.layers.core) is deprecated and will be removed in a future version.\n",
      "Instructions for updating:\n",
      "Use keras.layers.dropout instead.\n",
      "WARNING:tensorflow:From d:\\anaconda3\\envs\\envname\\lib\\site-packages\\tensorflow\\python\\keras\\layers\\core.py:143: calling dropout (from tensorflow.python.ops.nn_ops) with keep_prob is deprecated and will be removed in a future version.\n",
      "Instructions for updating:\n",
      "Please use `rate` instead of `keep_prob`. Rate should be set to `rate = 1 - keep_prob`.\n"
     ]
    }
   ],
   "source": [
    "bias_1 = tf.Variable(tf.zeros(6))\n",
    "C1 = tf.layers.conv2d(X, filters=6, kernel_size=5, activation=tf.nn.relu) + bias_1\n",
    "\n",
    "S2 = tf.layers.max_pooling2d(C1, pool_size=2, strides=2)\n",
    "\n",
    "S2_bn = tf.layers.batch_normalization(S2)\n",
    "\n",
    "bias_2 = tf.Variable(tf.zeros(16))\n",
    "C3 = tf.layers.conv2d(S2_bn, filters=16, kernel_size=5, activation=tf.nn.relu) + bias_2\n",
    "\n",
    "S4 = tf.layers.average_pooling2d(C3, pool_size=2, strides=2)\n",
    "\n",
    "S4_bn = tf.layers.batch_normalization(S4)\n",
    "\n",
    "bias_3 = tf.Variable(tf.zeros(120))\n",
    "F5 = tf.layers.dense(tf.layers.flatten(S4_bn), units=120, activation=tf.nn.relu) + bias_3\n",
    "\n",
    "F5 = tf.layers.dropout(F5, rate=0.12, training=Training)\n",
    "\n",
    "# F5_bn = tf.layers.batch_normalization(F5)\n",
    "\n",
    "bias_4 = tf.Variable(tf.zeros(84))\n",
    "F6 = tf.layers.dense(F5, units=84, activation=tf.nn.relu) + bias_4\n",
    "\n",
    "F6 = tf.layers.dropout(F6, rate=0.23, training=Training)\n",
    "\n",
    "# F6_bn = tf.layers.batch_normalization(F6)\n",
    "\n",
    "bias_5 = tf.Variable(tf.zeros(10))\n",
    "logits = tf.layers.dense(F6, units=10) + bias_5"
   ]
  },
  {
   "cell_type": "markdown",
   "metadata": {},
   "source": [
    "<h1>Cost and Optimization</h1>"
   ]
  },
  {
   "cell_type": "code",
   "execution_count": 7,
   "metadata": {},
   "outputs": [],
   "source": [
    "# define loss\n",
    "loss = tf.reduce_mean(tf.nn.softmax_cross_entropy_with_logits_v2(logits=logits,labels=Y),name='loss')\n",
    "l2_loss = tf.losses.get_regularization_loss()\n",
    "loss = loss + l2_loss\n",
    "# define optimizer\n",
    "optimizer = tf.train.AdamOptimizer(learning_rate=lr)\n",
    "train_op = optimizer.minimize(loss)\n",
    "\n",
    "# compare the predicted labels with true labels\n",
    "correct_pred = tf.equal(tf.argmax(tf.nn.softmax(logits),1),tf.argmax(Y,1))\n",
    "\n",
    "# compute the accuracy by taking average\n",
    "accuracy = tf.reduce_mean(tf.cast(correct_pred,tf.float32),name='accuracy')"
   ]
  },
  {
   "cell_type": "markdown",
   "metadata": {},
   "source": [
    "<h1>Training, validation and testing</h1>\n",
    "<h2>Train your model only 10 epochs.</h2>\n",
    "<h2>1.Print out validation accuracy after each training epoch</h2>\n",
    "<h2>2.Print out training time for each training epoch</h2>\n",
    "<h2>3.Print out testing accuracy</h2>"
   ]
  },
  {
   "cell_type": "code",
   "execution_count": 8,
   "metadata": {},
   "outputs": [
    {
     "name": "stdout",
     "output_type": "stream",
     "text": [
      "Epoch:0   Time:7.673   Current validation accuracy: 0.4332\n",
      "Epoch:1   Time:4.045   Current validation accuracy: 0.4984\n",
      "Epoch:2   Time:4.073   Current validation accuracy: 0.5296\n",
      "Epoch:3   Time:4.110   Current validation accuracy: 0.5446\n",
      "Epoch:4   Time:4.094   Current validation accuracy: 0.5504\n",
      "Epoch:5   Time:4.105   Current validation accuracy: 0.5614\n",
      "Epoch:6   Time:4.107   Current validation accuracy: 0.5676\n",
      "Epoch:7   Time:4.084   Current validation accuracy: 0.5742\n",
      "Epoch:8   Time:4.117   Current validation accuracy: 0.5712\n",
      "Epoch:9   Time:4.157   Current validation accuracy: 0.5752\n",
      "Test accuracy: \n",
      "0.5724\n"
     ]
    }
   ],
   "source": [
    "init = tf.global_variables_initializer()\n",
    "\n",
    "with tf.Session() as sess:\n",
    "    sess.run(init)\n",
    "    for i in range(num_epochs):\n",
    "        s = time.time()\n",
    "        batch_id = 1\n",
    "        while batch_id < 6:\n",
    "            training_data = load_preprocessed_training_batch(batch_id, batch_size)\n",
    "            for data, labels in training_data:\n",
    "                sess.run(train_op, feed_dict = {X: np.reshape(data, (-1, 32, 32, 3)), Y: labels, Training: True})\n",
    "            batch_id = batch_id + 1\n",
    "        val_acc = sess.run(accuracy, feed_dict={X: np.reshape(validation_data, (-1, 32, 32, 3)), Y: validation_labels, Training: False})\n",
    "        f = time.time()\n",
    "        print('Epoch:' + str(i) + '   Time:{:.3f}'.format(f - s) + '   Current validation accuracy: ' + str(val_acc))\n",
    "    test_data, test_labels = load_all_test_batch()\n",
    "    test_acc = sess.run(accuracy, feed_dict = {X: np.reshape(test_data, (-1, 32, 32, 3)), Y: test_labels, Training: False})\n",
    "    print('Test accuracy: ')\n",
    "    print(test_acc)"
   ]
  },
  {
   "cell_type": "code",
   "execution_count": null,
   "metadata": {},
   "outputs": [],
   "source": []
  }
 ],
 "metadata": {
  "kernelspec": {
   "display_name": "Python 3",
   "language": "python",
   "name": "python3"
  }
 },
 "nbformat": 4,
 "nbformat_minor": 2
}
