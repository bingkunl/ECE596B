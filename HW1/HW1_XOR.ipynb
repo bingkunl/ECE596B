{
 "cells": [
  {
   "cell_type": "code",
   "execution_count": 1,
   "metadata": {},
   "outputs": [],
   "source": [
    "import tensorflow as tf\n",
    "import numpy as np\n",
    "import matplotlib.pyplot as plt"
   ]
  },
  {
   "cell_type": "markdown",
   "metadata": {},
   "source": [
    "<h2>Define Hyper-parameters</h2>"
   ]
  },
  {
   "cell_type": "code",
   "execution_count": 2,
   "metadata": {},
   "outputs": [],
   "source": [
    "num_steps = 10000\n",
    "n_hidden = 2\n",
    "lr = 0.1"
   ]
  },
  {
   "cell_type": "markdown",
   "metadata": {},
   "source": [
    "<h2>Define your input data and expected labels</h2>"
   ]
  },
  {
   "cell_type": "code",
   "execution_count": 3,
   "metadata": {},
   "outputs": [],
   "source": [
    "x = np.array([[0,0],[0,1],[1,0],[1,1]],np.float32)\n",
    "y = np.array([0,1,1,0],np.float32)\n",
    "y = np.reshape(y,[4,1])"
   ]
  },
  {
   "cell_type": "markdown",
   "metadata": {},
   "source": [
    "<h2>Define placeholder and Variables</h2>"
   ]
  },
  {
   "cell_type": "code",
   "execution_count": 4,
   "metadata": {},
   "outputs": [
    {
     "name": "stdout",
     "output_type": "stream",
     "text": [
      "WARNING:tensorflow:From d:\\anaconda3\\envs\\envname\\lib\\site-packages\\tensorflow\\python\\framework\\op_def_library.py:263: colocate_with (from tensorflow.python.framework.ops) is deprecated and will be removed in a future version.\n",
      "Instructions for updating:\n",
      "Colocations handled automatically by placer.\n"
     ]
    }
   ],
   "source": [
    "tf.reset_default_graph()\n",
    "X = tf.placeholder(tf.float32,shape=[4,2],name='X')\n",
    "Y = tf.placeholder(tf.float32,shape=[4,1],name='Y')\n",
    "weights = {\n",
    "    'W': tf.Variable(tf.random_normal([2, n_hidden]),name='W'),\n",
    "    'Wout': tf.Variable(tf.random_normal([n_hidden, 1]),name='Wout')\n",
    "}\n",
    "\n",
    "biases = {\n",
    "    'b': tf.Variable(tf.zeros(shape=[n_hidden]),name='b'),\n",
    "    'bout': tf.Variable(tf.zeros(shape=[1]),name='bout')\n",
    "}"
   ]
  },
  {
   "cell_type": "markdown",
   "metadata": {},
   "source": [
    "<h2>Define the neural network</h2>"
   ]
  },
  {
   "cell_type": "code",
   "execution_count": 5,
   "metadata": {},
   "outputs": [],
   "source": [
    "def neural_net(x):\n",
    "    layer_out = tf.add(tf.matmul(x,weights['W']),biases['b'])\n",
    "    layer_out = tf.sigmoid(layer_out)\n",
    "    out = tf.add(tf.matmul(layer_out,weights['Wout']),biases['bout'])\n",
    "    return out"
   ]
  },
  {
   "cell_type": "markdown",
   "metadata": {},
   "source": [
    "<h2>Define cost function</h2>"
   ]
  },
  {
   "cell_type": "code",
   "execution_count": 6,
   "metadata": {},
   "outputs": [],
   "source": [
    "logits = neural_net(X)\n",
    "loss = tf.reduce_mean(tf.nn.sigmoid_cross_entropy_with_logits(logits=logits,labels=Y),name='loss')\n",
    "optimizer = tf.train.GradientDescentOptimizer(learning_rate=lr)\n",
    "train_op = optimizer.minimize(loss)\n",
    "logits = tf.round(tf.sigmoid(logits))\n",
    "correct_pred = tf.equal(logits,Y)\n",
    "accuracy = tf.reduce_mean(tf.cast(correct_pred,tf.float32),name='accuracy')\n",
    "init = tf.global_variables_initializer()"
   ]
  },
  {
   "cell_type": "markdown",
   "metadata": {},
   "source": [
    "<h2>Execute training</h2>"
   ]
  },
  {
   "cell_type": "code",
   "execution_count": 7,
   "metadata": {
    "scrolled": false
   },
   "outputs": [
    {
     "name": "stdout",
     "output_type": "stream",
     "text": [
      "Training finished!\n",
      "Accuracy: 1.0\n",
      "Input state: [0. 0.]  Outcome: 0.0\n",
      "Input state: [0. 1.]  Outcome: 1.0\n",
      "Input state: [1. 0.]  Outcome: 1.0\n",
      "Input state: [1. 1.]  Outcome: 0.0\n"
     ]
    }
   ],
   "source": [
    "acc = np.zeros(num_steps)\n",
    "\n",
    "with tf.Session() as sess:\n",
    "    sess.run(init) \n",
    "    for i in range(num_steps):\n",
    "        sess.run(train_op, feed_dict={X:x, Y:y})\n",
    "        acc[i] = sess.run(accuracy,feed_dict={X:x, Y:y})\n",
    "    \n",
    "    print(\"Training finished!\")\n",
    "    print(\"Accuracy:\", sess.run(accuracy, feed_dict={X:x, Y:y}))\n",
    "    \n",
    "    outcome = np.squeeze(sess.run(logits, feed_dict={X:x, Y:y}))\n",
    "    W = np.squeeze(sess.run(weights['W']))\n",
    "    b = np.squeeze(sess.run(biases['b']))\n",
    "    \n",
    "    for j in range(4):\n",
    "        print(\"Input state:\", x[j], \" Outcome:\", outcome[j] )"
   ]
  },
  {
   "cell_type": "markdown",
   "metadata": {},
   "source": [
    "<h2>Plot</h2>"
   ]
  },
  {
   "cell_type": "code",
   "execution_count": 8,
   "metadata": {},
   "outputs": [
    {
     "data": {
      "image/png": "[encoded data removed]",
      "text/plain": [
       "<Figure size 432x288 with 1 Axes>"
      ]
     },
     "metadata": {
      "needs_background": "light"
     },
     "output_type": "display_data"
    },
    {
     "data": {
      "image/png": "[encoded data removed]",
      "text/plain": [
       "<Figure size 432x288 with 1 Axes>"
      ]
     },
     "metadata": {
      "needs_background": "light"
     },
     "output_type": "display_data"
    }
   ],
   "source": [
    "plt.plot(range(len(acc)),acc)\n",
    "plt.show()\n",
    "plot_x = np.array([np.min(x[:, 0] - 0.2), np.max(x[:, 1]+0.2)])\n",
    "plot_y_1 = 1 / W[1][0] * (-W[0][0] * plot_x - b[0])\n",
    "plot_y_2 = 1 / W[1][1] * (-W[0][1] * plot_x - b[1])\n",
    "plt.scatter(x[:, 0], x[:, 1], c=np.squeeze(y), s=100, cmap='viridis')\n",
    "plt.plot(plot_x, plot_y_1, color='k', linewidth=2)\n",
    "plt.plot(plot_x, plot_y_2, color='k', linewidth=2)\n",
    "plt.xlim([-0.2, 1.2]); plt.ylim([-0.2, 1.25]);\n",
    "plt.show()"
   ]
  },
  {
   "cell_type": "markdown",
   "metadata": {},
   "source": [
    "I didn't use batch, so every iteration is a epoch."
   ]
  },
  {
   "cell_type": "code",
   "execution_count": null,
   "metadata": {},
   "outputs": [],
   "source": []
  }
 ],
 "metadata": {
  "kernelspec": {
   "display_name": "Python 3",
   "language": "python",
   "name": "python3"
  },
  "language_info": {
   "codemirror_mode": {
    "name": "ipython",
    "version": 3
   },
   "file_extension": ".py",
   "mimetype": "text/x-python",
   "name": "python",
   "nbconvert_exporter": "python",
   "pygments_lexer": "ipython3",
   "version": "3.7.3"
  }
 },
 "nbformat": 4,
 "nbformat_minor": 2
}
